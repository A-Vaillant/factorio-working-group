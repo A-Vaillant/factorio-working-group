{
 "cells": [
  {
   "cell_type": "code",
   "execution_count": 4,
   "id": "e119da85",
   "metadata": {},
   "outputs": [
    {
     "ename": "ImportError",
     "evalue": "cannot import name 'DeepQCNN' from 'src.model' (/Users/david/src/nyu/factorio-working-group/src/model.py)",
     "output_type": "error",
     "traceback": [
      "\u001b[31m---------------------------------------------------------------------------\u001b[39m",
      "\u001b[31mImportError\u001b[39m                               Traceback (most recent call last)",
      "\u001b[36mCell\u001b[39m\u001b[36m \u001b[39m\u001b[32mIn[4]\u001b[39m\u001b[32m, line 1\u001b[39m\n\u001b[32m----> \u001b[39m\u001b[32m1\u001b[39m \u001b[38;5;28;01mfrom\u001b[39;00m\u001b[38;5;250m \u001b[39m\u001b[34;01msrc\u001b[39;00m\u001b[34;01m.\u001b[39;00m\u001b[34;01mtraining\u001b[39;00m\u001b[38;5;250m \u001b[39m\u001b[38;5;28;01mimport\u001b[39;00m *\n\u001b[32m      2\u001b[39m \u001b[38;5;28;01mfrom\u001b[39;00m\u001b[38;5;250m \u001b[39m\u001b[34;01msrc\u001b[39;00m\u001b[34;01m.\u001b[39;00m\u001b[34;01mpipeline\u001b[39;00m\u001b[34;01m.\u001b[39;00m\u001b[34;01mloaders\u001b[39;00m\u001b[38;5;250m \u001b[39m\u001b[38;5;28;01mimport\u001b[39;00m collate_numpy_matrices_without_conditions\n\u001b[32m      3\u001b[39m \u001b[38;5;28;01mfrom\u001b[39;00m\u001b[38;5;250m \u001b[39m\u001b[34;01msrc\u001b[39;00m\u001b[34;01m.\u001b[39;00m\u001b[34;01mpipeline\u001b[39;00m\u001b[34;01m.\u001b[39;00m\u001b[34;01mdatasets\u001b[39;00m\u001b[38;5;250m \u001b[39m\u001b[38;5;28;01mimport\u001b[39;00m ChunkedDiskCachedDatasetWrapper\n",
      "\u001b[36mFile \u001b[39m\u001b[32m~/src/nyu/factorio-working-group/src/training.py:12\u001b[39m\n\u001b[32m     10\u001b[39m \u001b[38;5;28;01mfrom\u001b[39;00m\u001b[38;5;250m \u001b[39m\u001b[34;01msrc\u001b[39;00m\u001b[34;01m.\u001b[39;00m\u001b[34;01mpipeline\u001b[39;00m\u001b[34;01m.\u001b[39;00m\u001b[34;01mloaders\u001b[39;00m\u001b[38;5;250m \u001b[39m\u001b[38;5;28;01mimport\u001b[39;00m collate_numpy_matrices\n\u001b[32m     11\u001b[39m \u001b[38;5;28;01mfrom\u001b[39;00m\u001b[38;5;250m \u001b[39m\u001b[34;01msrc\u001b[39;00m\u001b[34;01m.\u001b[39;00m\u001b[34;01mprocessor\u001b[39;00m\u001b[38;5;250m \u001b[39m\u001b[38;5;28;01mimport\u001b[39;00m EntityPuncher\n\u001b[32m---> \u001b[39m\u001b[32m12\u001b[39m \u001b[38;5;28;01mfrom\u001b[39;00m\u001b[38;5;250m \u001b[39m\u001b[34;01msrc\u001b[39;00m\u001b[34;01m.\u001b[39;00m\u001b[34;01mmodel\u001b[39;00m\u001b[38;5;250m \u001b[39m\u001b[38;5;28;01mimport\u001b[39;00m DeepQCNN\n\u001b[32m     13\u001b[39m \u001b[38;5;28;01mfrom\u001b[39;00m\u001b[38;5;250m \u001b[39m\u001b[34;01msrc\u001b[39;00m\u001b[34;01m.\u001b[39;00m\u001b[34;01mpipeline\u001b[39;00m\u001b[34;01m.\u001b[39;00m\u001b[34;01mdatasets\u001b[39;00m\u001b[38;5;250m \u001b[39m\u001b[38;5;28;01mimport\u001b[39;00m load_dataset\n\u001b[32m     14\u001b[39m \u001b[38;5;66;03m# from src.pipeline.filters import (Required,\u001b[39;00m\n\u001b[32m     15\u001b[39m \u001b[38;5;66;03m#                                   RecipeWhitelist,\u001b[39;00m\n\u001b[32m     16\u001b[39m \u001b[38;5;66;03m#                                   SizeRestrictor,\u001b[39;00m\n\u001b[32m     17\u001b[39m \u001b[38;5;66;03m#                                   Blacklist,\u001b[39;00m\n\u001b[32m     18\u001b[39m \u001b[38;5;66;03m#                                   Whitelist)\u001b[39;00m\n",
      "\u001b[31mImportError\u001b[39m: cannot import name 'DeepQCNN' from 'src.model' (/Users/david/src/nyu/factorio-working-group/src/model.py)"
     ]
    }
   ],
   "source": [
    "from src.training import *\n",
    "from src.pipeline.loaders import collate_numpy_matrices_without_conditions\n",
    "from src.pipeline.datasets import ChunkedDiskCachedDatasetWrapper\n",
    "import warnings\n",
    "warnings.filterwarnings(\"ignore\", message=\"Unknown entity 'ee-infinity-loader'\")\n",
    "from src.model import BinaryMatrixTransformCNN\n",
    "\n",
    "\n",
    "force_rebuild = False  # Used to wipe out the cache.\n",
    "has_been_cached = True  # Used to avoid reprocessing our dataset once we've done it once.\n",
    "\n",
    "# Added something to speed up subsequent training.\n",
    "\n",
    "dims = (20,20)\n",
    "if not has_been_cached:\n",
    "    rv = 5\n",
    "    datalist = prepare_dataset(dims=dims, repr_version=rv)\n",
    "    rotational_datalist = AugmentedListDataset(*datalist)\n",
    "    cached_dataset = ChunkedDiskCachedDatasetWrapper(rotational_datalist,\n",
    "                                                     force_rebuild=force_rebuild,\n",
    "                                                     cache_dir='dataset_cache')\n",
    "else:\n",
    "    cached_dataset = ChunkedDiskCachedDatasetWrapper.from_cache(cache_dir='dataset_cache')\n",
    "\n",
    "dataloader = DataLoader(\n",
    "    cached_dataset,\n",
    "    batch_size=32, \n",
    "    collate_fn=collate_numpy_matrices_without_conditions\n",
    ")\n",
    "train_dataloader, val_dataloader = split_dataloader(dataloader)\n",
    "\n",
    "input_size = dims[0]\n",
    "model = BinaryMatrixTransformCNN(matrix_size=input_size)\n"
   ]
  },
  {
   "cell_type": "code",
   "execution_count": null,
   "id": "17a6c980",
   "metadata": {},
   "outputs": [
    {
     "ename": "NameError",
     "evalue": "name 'cached_dataset' is not defined",
     "output_type": "error",
     "traceback": [
      "\u001b[31m---------------------------------------------------------------------------\u001b[39m",
      "\u001b[31mNameError\u001b[39m                                 Traceback (most recent call last)",
      "\u001b[36mCell\u001b[39m\u001b[36m \u001b[39m\u001b[32mIn[2]\u001b[39m\u001b[32m, line 11\u001b[39m\n\u001b[32m      7\u001b[39m model = BinaryMatrixTransformCNN(matrix_size=\u001b[32m20\u001b[39m)\n\u001b[32m      8\u001b[39m model.load_state_dict(torch.load(\u001b[33m'\u001b[39m\u001b[33mbest_model.pt\u001b[39m\u001b[33m'\u001b[39m))\n\u001b[32m     10\u001b[39m dataloader = DataLoader(\n\u001b[32m---> \u001b[39m\u001b[32m11\u001b[39m     \u001b[43mcached_dataset\u001b[49m,\n\u001b[32m     12\u001b[39m     batch_size=\u001b[32m1\u001b[39m, \n\u001b[32m     13\u001b[39m     collate_fn=collate_numpy_matrices_without_conditions\n\u001b[32m     14\u001b[39m )\n\u001b[32m     16\u001b[39m X, Y = \u001b[38;5;28mlist\u001b[39m(dataloader)[\u001b[32m241\u001b[39m]\n\u001b[32m     17\u001b[39m O = model.predict(X)\n",
      "\u001b[31mNameError\u001b[39m: name 'cached_dataset' is not defined"
     ]
    }
   ],
   "source": [
    "from src.visualization import visualize_manychannel_matrices\n",
    "from src.pipeline.loaders import collate_numpy_matrices_without_conditions\n",
    "from torch.utils.data import DataLoader\n",
    "import torch\n",
    "\n",
    "model.load_state_dict(torch.load('best_model.pt'))\n",
    "\n",
    "dataloader = DataLoader(\n",
    "    cached_dataset,\n",
    "    batch_size=1, \n",
    "    collate_fn=collate_numpy_matrices_without_conditions\n",
    ")\n",
    "\n",
    "X, Y = list(dataloader)[241]\n",
    "O = model.predict(X)\n",
    "visualize_manychannel_matrices(X[0], Y[0], O[0])"
   ]
  },
  {
   "cell_type": "code",
   "execution_count": null,
   "id": "d8320fe2",
   "metadata": {},
   "outputs": [],
   "source": [
    "X[0].shape"
   ]
  }
 ],
 "metadata": {
  "kernelspec": {
   "display_name": "Python 3",
   "language": "python",
   "name": "python3"
  },
  "language_info": {
   "codemirror_mode": {
    "name": "ipython",
    "version": 3
   },
   "file_extension": ".py",
   "mimetype": "text/x-python",
   "name": "python",
   "nbconvert_exporter": "python",
   "pygments_lexer": "ipython3",
   "version": "3.11.11"
  }
 },
 "nbformat": 4,
 "nbformat_minor": 5
}
