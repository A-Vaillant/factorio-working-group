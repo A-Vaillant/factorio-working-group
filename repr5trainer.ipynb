{
 "cells": [
  {
   "cell_type": "code",
   "execution_count": null,
   "id": "e119da85",
   "metadata": {},
   "outputs": [],
   "source": [
    "from src.training import *\n",
    "from src.pipeline.loaders import collate_numpy_matrices_without_conditions\n",
    "from src.pipeline.datasets import ChunkedDiskCachedDatasetWrapper\n",
    "import warnings\n",
    "warnings.filterwarnings(\"ignore\", message=\"Unknown entity 'ee-infinity-loader'\")\n",
    "\n",
    "has_been_cached = True  # Used to avoid reprocessing our dataset once we've done it once.\n",
    "\n",
    "# Added something to speed up subsequent training.\n",
    "\n",
    "dims = (20,20)\n",
    "if not has_been_cached:\n",
    "    rv = 5\n",
    "    datalist = prepare_dataset(dims=dims, repr_version=rv)\n",
    "    rotational_datalist = AugmentedListDataset(*datalist)\n",
    "    cached_dataset = ChunkedDiskCachedDatasetWrapper(rotational_datalist,\n",
    "                                                     force_rebuild=not has_been_cached,\n",
    "                                                     cache_dir='dataset_cache')\n",
    "    # TODO don't i have to save the cache\n",
    "else:\n",
    "    cached_dataset = ChunkedDiskCachedDatasetWrapper.from_cache(cache_dir='dataset_cache')\n",
    "\n",
    "dataloader = DataLoader(\n",
    "    cached_dataset,\n",
    "    batch_size=32, \n",
    "    collate_fn=collate_numpy_matrices_without_conditions\n",
    ")\n",
    "train_dataloader, val_dataloader = split_dataloader(dataloader, val_split=0.4)\n",
    "\n",
    "input_size = dims[0]"
   ]
  },
  {
   "cell_type": "code",
   "execution_count": null,
   "id": "b34e017c",
   "metadata": {},
   "outputs": [],
   "source": [
    "from src.model import train_model, BinaryMatrixTransformCNN\n",
    "\n",
    "\n",
    "model = BinaryMatrixTransformCNN(matrix_size=input_size)\n",
    "\n",
    "train_model(model, train_loader=train_dataloader, val_loader=val_dataloader,\n",
    "            num_epochs=50, device='mps')"
   ]
  },
  {
   "cell_type": "code",
   "execution_count": null,
   "id": "17a6c980",
   "metadata": {},
   "outputs": [],
   "source": [
    "from src.model import BinaryMatrixTransformCNN\n",
    "from src.visualization import visualize_manychannel_matrices\n",
    "from src.pipeline.loaders import collate_numpy_matrices_without_conditions\n",
    "from torch.utils.data import DataLoader\n",
    "import torch\n",
    "\n",
    "input_size=20\n",
    "\n",
    "model = BinaryMatrixTransformCNN(matrix_size=input_size)\n",
    "model.load_state_dict(torch.load('best_model.pt'))\n",
    "\n",
    "dataloader = DataLoader(\n",
    "    cached_dataset,\n",
    "    batch_size=1, \n",
    "    collate_fn=collate_numpy_matrices_without_conditions\n",
    ")\n",
    "\n",
    "L = len(list(dataloader))//4\n",
    "X, Y = list(dataloader)[983 + 2*L]\n",
    "O = model.predict(X)\n",
    "visualize_manychannel_matrices(X[0], Y[0], O[0])"
   ]
  }
 ],
 "metadata": {
  "kernelspec": {
   "display_name": ".venv",
   "language": "python",
   "name": "python3"
  },
  "language_info": {
   "codemirror_mode": {
    "name": "ipython",
    "version": 3
   },
   "file_extension": ".py",
   "mimetype": "text/x-python",
   "name": "python",
   "nbconvert_exporter": "python",
   "pygments_lexer": "ipython3",
   "version": "3.11.11"
  }
 },
 "nbformat": 4,
 "nbformat_minor": 5
}
