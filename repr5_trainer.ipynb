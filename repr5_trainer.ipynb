{
 "cells": [
  {
   "cell_type": "code",
   "execution_count": null,
   "id": "fceb36ab",
   "metadata": {},
   "outputs": [],
   "source": [
    "%reload_ext autoreload\n",
    "%autoreload 2"
   ]
  },
  {
   "cell_type": "code",
   "execution_count": null,
   "id": "e119da85",
   "metadata": {},
   "outputs": [],
   "source": [
    "from src.training import *\n",
    "from src.pipeline.loaders import collate_numpy_matrices_without_conditions\n",
    "from src.pipeline.datasets import RotationalDataset, prepare_and_save_seed_dataset, MatrixTupleDataset\n",
    "import warnings\n",
    "warnings.filterwarnings(\"ignore\", message=\"Unknown entity 'ee-infinity-loader'\")\n",
    "\n",
    "filename = 'data/processed/paths.npz'\n",
    "dims = (20,20)\n",
    "\n",
    "if not os.path.exists(filename):\n",
    "    prepare_and_save_seed_dataset(filename, dims, repr_version=5, seed_paths=10)\n",
    "\n",
    "matrix_dataset = MatrixTupleDataset(filename)\n",
    "rotational_datalist = RotationalDataset(matrix_dataset)\n",
    "\n",
    "dataloader = DataLoader(\n",
    "    rotational_datalist,\n",
    "    batch_size=256, \n",
    "    collate_fn=collate_numpy_matrices,\n",
    "    num_workers=0,\n",
    "    pin_memory=True\n",
    ")\n",
    "train_dataloader, test_dataloader = split_dataloader(dataloader, val_split=0.2)\n",
    "train_dataloader, val_dataloader = split_dataloader(train_dataloader, val_split=0.1)\n",
    "\n",
    "input_size = dims[0]\n",
    "\n",
    "print(f\"Dataset size is: {len(rotational_datalist)}\")"
   ]
  },
  {
   "cell_type": "code",
   "execution_count": null,
   "id": "b34e017c",
   "metadata": {},
   "outputs": [],
   "source": [
    "from src.model import BinaryMatrixTransformCNN, AttentiveBinaryMatrixTransformCNN, FactorioCNN_PixelOutput\n",
    "from src.training import train_model\n",
    "import itertools\n",
    "\n",
    "input_size = dims[0]\n",
    "model1 = BinaryMatrixTransformCNN(matrix_size=input_size)\n",
    "model2 = AttentiveBinaryMatrixTransformCNN(matrix_size=input_size)\n",
    "\n",
    "device = 'cuda'\n",
    "\n",
    "models = [model1, model2]\n",
    "for moodel in models:\n",
    "    log_dir = f'runs/{datetime.now().strftime(\"%Y%m%d-%H%M%S\")}_{moodel.filename}'\n",
    "    moodel = moodel.to(device=device)\n",
    "    train_model(moodel, train_loader=train_dataloader,\n",
    "                val_loader=val_dataloader, log_dir=log_dir,\n",
    "                integrity_weight=0.0, num_epochs=50, device=device)\n",
    "    test_model(moodel, test_dataloader, device=device, log_dir=log_dir)\n",
    "    del(moodel)\n",
    "\n",
    "# underscore as to not shadow str\n",
    "for bias in [-1.5, -0.5]:\n",
    "    str_ = 0.5\n",
    "    moodel = FactorioCNN_PixelOutput(4, 4, 5, 3, 3, 2, 32, 21, \n",
    "                                    presence_gate_strength=str_,\n",
    "                                    presence_gate_bias=bias)\n",
    "    moodel.filename += f\"_pgst{str_}_bias{bias}\"\n",
    "    log_dir = f'runs/{datetime.now().strftime(\"%Y%m%d-%H%M%S\")}_{moodel.filename}'\n",
    "    train_model(moodel, train_loader=train_dataloader,\n",
    "                val_loader=val_dataloader, log_dir=log_dir,\n",
    "                integrity_weight=0.0, num_epochs=50, device=device)\n",
    "    test_model(moodel, test_dataloader, device=device, log_dir=log_dir)\n",
    "    del(moodel)  # great farm in the sky"
   ]
  }
 ],
 "metadata": {
  "kernelspec": {
   "display_name": ".venv",
   "language": "python",
   "name": "python3"
  },
  "language_info": {
   "codemirror_mode": {
    "name": "ipython",
    "version": 3
   },
   "file_extension": ".py",
   "mimetype": "text/x-python",
   "name": "python",
   "nbconvert_exporter": "python",
   "pygments_lexer": "ipython3",
   "version": "3.11.9"
  }
 },
 "nbformat": 4,
 "nbformat_minor": 5
}
