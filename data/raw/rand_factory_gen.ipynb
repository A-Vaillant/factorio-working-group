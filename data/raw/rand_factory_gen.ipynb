{
 "cells": [
  {
   "cell_type": "code",
   "execution_count": 30,
   "metadata": {},
   "outputs": [],
   "source": [
    "import random\n",
    "from draftsman.blueprintable import Blueprint\n",
    "from draftsman.entity import AssemblingMachine, Inserter, Entity\n",
    "from draftsman.constants import Direction\n",
    "\n"
   ]
  },
  {
   "cell_type": "code",
   "execution_count": null,
   "metadata": {},
   "outputs": [],
   "source": []
  },
  {
   "cell_type": "code",
   "execution_count": 72,
   "metadata": {},
   "outputs": [],
   "source": [
    "def generate_factory_grid(n_assemblers: int, grid_size=20):\n",
    "\n",
    "    recipes_pool = [\"iron-gear-wheel\", \"automation-science-pack\", \"electronic-circuit\"]\n",
    "\n",
    "    bp = Blueprint()\n",
    "    placed_positions = set()\n",
    "    occupied = set()\n",
    "\n",
    "    # Add ee-infinity-loader source and sink\n",
    "    try:\n",
    "        source_loader = Entity(\"ee-infinity-loader\", similar_entities=[], tile_position=(0, 0), direction=Direction.EAST)\n",
    "        sink_loader = Entity(\"ee-infinity-loader\", similar_entities=[], tile_position=(grid_size - 2, grid_size - 2), direction=Direction.WEST)\n",
    "\n",
    "        # Set a filter on the sink to distinguish it\n",
    "        # sink_loader.filters = [\"iron-plate\"]  # example filter\n",
    "\n",
    "        bp.entities.extend([source_loader, sink_loader])\n",
    "    except Exception as e:\n",
    "        print(f\"Could not add ee-infinity-loaders: {e}\")\n",
    "\n",
    "    # Place assemblers with inserters\n",
    "    while len([e for e in bp.entities if isinstance(e, AssemblingMachine)]) < n_assemblers:\n",
    "        x = random.randint(1, grid_size - 4)\n",
    "        y = random.randint(1, grid_size - 4)\n",
    "\n",
    "        # Decide vertical or horizontal using boolean\n",
    "        is_vertical = random.choice([True, False])\n",
    "        assembler_dir = Direction.SOUTH if is_vertical else Direction.EAST\n",
    "\n",
    "        # 3x3 assembler occupies (x,y) to (x+2,y+2)\n",
    "        body_tiles = {(x + dx, y + dy) for dx in range(3) for dy in range(3)}\n",
    "\n",
    "        # Inserter tiles (input and output) depend on orientation\n",
    "        if is_vertical:\n",
    "            in_pos = (x + 1, y + 3)   # Bottom center\n",
    "            out_pos = (x + 1, y - 1)  # Top center\n",
    "        else:\n",
    "            in_pos = (x - 1, y + 1)   # Left center\n",
    "            out_pos = (x + 3, y + 1)  # Right center\n",
    "\n",
    "        all_needed_tiles = body_tiles.union({in_pos, out_pos})\n",
    "        if any(tile in occupied or not (0 <= tile[0] < grid_size and 0 <= tile[1] < grid_size) for tile in all_needed_tiles):\n",
    "            continue  # Retry if overlapping or out of bounds\n",
    "\n",
    "        assembler = AssemblingMachine(\"assembling-machine-1\", position=(x + 1, y + 1), direction=assembler_dir)\n",
    "        assembler.recipe = random.choice(recipes_pool)\n",
    "\n",
    "        if is_vertical:\n",
    "            inserter_in = Inserter(position=in_pos, direction=Direction.SOUTH)\n",
    "            inserter_out = Inserter(position=out_pos, direction=Direction.SOUTH)\n",
    "        else:\n",
    "            inserter_in = Inserter(position=in_pos, direction=Direction.SOUTHEAST)\n",
    "            inserter_out = Inserter(position=out_pos, direction=Direction.SOUTHEAST)\n",
    "\n",
    "        try:\n",
    "            bp.entities.extend([assembler, inserter_in, inserter_out])\n",
    "            occupied.update(all_needed_tiles)\n",
    "        except ValueError:\n",
    "            continue\n",
    "\n",
    "\n",
    "        try:\n",
    "            bp.entities.extend([assembler, inserter_in, inserter_out])\n",
    "            placed_positions.update([(x, y), (x, y + 1), (x, y - 1)])\n",
    "        except ValueError:\n",
    "            continue\n",
    "\n",
    "    \n",
    "\n",
    "    return bp\n",
    "\n",
    "\n",
    "def generate_blueprint_string(n_assemblers: int, grid_size=20):\n",
    "    bp = generate_factory_grid(n_assemblers, grid_size)\n",
    "    return bp.to_string()  # Convert blueprint to a base64 string"
   ]
  },
  {
   "cell_type": "code",
   "execution_count": 74,
   "metadata": {},
   "outputs": [
    {
     "name": "stdout",
     "output_type": "stream",
     "text": [
      "Blueprint String: 0eNrF09tqhDAQBuB3mWtTjMaoeZWlFHWn7VATxcRSEd+9cdsFWyvFBdmrDDl8yfyQEcq6x7Yj40CNQA41qMVcAO/YWWoMqERGucjzRPI0ziIRABpHjtCCOo1gCo3+JCIj80yG3MDqpjhj54m2sX7jbIzwASp8CAMYLuMUwJk6rL5Wr+bwZHpd+qOKT8Eummff9lz8xHm00qOFXliLuqzJvDBdVK9kkPG1L6+8/M1nAfia2ovVu0YX8zyzFaGpkLVF9QarB8SLB1jnt/gOLXbur9bkZmfZyhW3uOJ/N7l3YPKgwNKDAst2B8bTTV7ckli+ozOebN4t118z3CPne2R+99R4dFhs8WGxielxmj4BNtDo2Q==\n",
      "Blueprint String: 0eNrFkN1ugzAMRt/F12Qi/JNXqaYpUK+1RgJKwjaEePeFjkmdaKdxgXoVK7HPF58RqqbHzpB2IEYghwrE1V0A72gstRpEmkVlUpZpxvO4iJIAUDtyhBbEYQQtFfpJREb6lTS5gTWtPKLxiK61vnFmjPAJInwKAxgu5xTAkQzW368/zOFF96ryo4JPwSY0Lxb2XPyG82hFj67o0lpUVUP6xJSsz6SR8TU/XvD5ja/7mroLqnetkvM9szWhrpF1sn6DVX58lW+db/ELWjTu5mb3krMVNtmATf+PTR9sK9vHVr6PrWKzrWyBx3/ZIuM9nVAa9nFGbNaWyg3rJPcS1+vwcAO32MDlD/LEo51ExTuJSqbnafoCYabeow==\n",
      "Blueprint String: 0eNrFk9tugzAMQP/Fz2Qi4VLgV6ZpgtTbrJGAkjANIf59oWsrVpi2VkJ9iuU4x/aRMkBVd9ga0g6KAcihgmKWC+ADjaVGQ5GkIo/zPEn5LspEHABqR47QQvE4gC4V+peIjPQLaXI9q5tyj8Yj2sb6wokxwCcU4UMYQH84xwD2ZFB+356Y/bPuVOWfFnwMrkLz7Miegp9wLhZ0MaOX1qKqatKvTJXyjTQyvsJPTvz4kp8F4GNqD7DONaqc8sxKQi2RtaV8h8UE0WwC63yJX9Gicau7nXunK70vwPFNYPE3OLm7s3QrZ7utnGXXO4uO+Hzlj5yVYe2zptEkmSQjO3JLW/k1S/HfuqbLnxneYus/YH5HW1xspSvaSlc8Po3jF4on5TU=\n"
     ]
    },
    {
     "name": "stderr",
     "output_type": "stream",
     "text": [
      "C:\\Users\\selin\\AppData\\Local\\Temp\\ipykernel_6620\\3609738444.py:63: OverlappingObjectsWarning: Added object 'assembling-machine-1' (AssemblingMachine) at (6.0, 16.0) intersects 'assembling-machine-1' (AssemblingMachine) at (6.0, 16.0)\n",
      "  bp.entities.extend([assembler, inserter_in, inserter_out])\n",
      "C:\\Users\\selin\\AppData\\Local\\Temp\\ipykernel_6620\\3609738444.py:63: OverlappingObjectsWarning: Added object 'stack-inserter' (Inserter) at (6.0, 18.0) intersects 'stack-inserter' (Inserter) at (6.0, 18.0)\n",
      "  bp.entities.extend([assembler, inserter_in, inserter_out])\n",
      "C:\\Users\\selin\\AppData\\Local\\Temp\\ipykernel_6620\\3609738444.py:63: OverlappingObjectsWarning: Added object 'stack-inserter' (Inserter) at (6.0, 14.0) intersects 'stack-inserter' (Inserter) at (6.0, 14.0)\n",
      "  bp.entities.extend([assembler, inserter_in, inserter_out])\n",
      "C:\\Users\\selin\\AppData\\Local\\Temp\\ipykernel_6620\\3609738444.py:63: OverlappingObjectsWarning: Added object 'assembling-machine-1' (AssemblingMachine) at (17.0, 14.0) intersects 'assembling-machine-1' (AssemblingMachine) at (17.0, 14.0)\n",
      "  bp.entities.extend([assembler, inserter_in, inserter_out])\n",
      "C:\\Users\\selin\\AppData\\Local\\Temp\\ipykernel_6620\\3609738444.py:63: OverlappingObjectsWarning: Added object 'assembling-machine-1' (AssemblingMachine) at (3.0, 7.0) intersects 'assembling-machine-1' (AssemblingMachine) at (3.0, 7.0)\n",
      "  bp.entities.extend([assembler, inserter_in, inserter_out])\n",
      "C:\\Users\\selin\\AppData\\Local\\Temp\\ipykernel_6620\\3609738444.py:63: OverlappingObjectsWarning: Added object 'assembling-machine-1' (AssemblingMachine) at (6.0, 3.0) intersects 'assembling-machine-1' (AssemblingMachine) at (6.0, 3.0)\n",
      "  bp.entities.extend([assembler, inserter_in, inserter_out])\n",
      "C:\\Users\\selin\\AppData\\Local\\Temp\\ipykernel_6620\\3609738444.py:63: OverlappingObjectsWarning: Added object 'assembling-machine-1' (AssemblingMachine) at (15.0, 14.0) intersects 'assembling-machine-1' (AssemblingMachine) at (15.0, 14.0)\n",
      "  bp.entities.extend([assembler, inserter_in, inserter_out])\n",
      "C:\\Users\\selin\\AppData\\Local\\Temp\\ipykernel_6620\\3609738444.py:63: OverlappingObjectsWarning: Added object 'stack-inserter' (Inserter) at (15.0, 16.0) intersects 'stack-inserter' (Inserter) at (15.0, 16.0)\n",
      "  bp.entities.extend([assembler, inserter_in, inserter_out])\n",
      "C:\\Users\\selin\\AppData\\Local\\Temp\\ipykernel_6620\\3609738444.py:63: OverlappingObjectsWarning: Added object 'stack-inserter' (Inserter) at (15.0, 12.0) intersects 'stack-inserter' (Inserter) at (15.0, 12.0)\n",
      "  bp.entities.extend([assembler, inserter_in, inserter_out])\n",
      "C:\\Users\\selin\\AppData\\Local\\Temp\\ipykernel_6620\\3609738444.py:63: OverlappingObjectsWarning: Added object 'assembling-machine-1' (AssemblingMachine) at (13.0, 9.0) intersects 'assembling-machine-1' (AssemblingMachine) at (13.0, 9.0)\n",
      "  bp.entities.extend([assembler, inserter_in, inserter_out])\n"
     ]
    }
   ],
   "source": [
    "# Example usage:\n",
    "for i in range(0,3):\n",
    "    blueprint_string = generate_blueprint_string(4, 20)\n",
    "    print(\"Blueprint String:\", blueprint_string)"
   ]
  },
  {
   "cell_type": "code",
   "execution_count": null,
   "metadata": {},
   "outputs": [],
   "source": []
  }
 ],
 "metadata": {
  "kernelspec": {
   "display_name": "Python 3",
   "language": "python",
   "name": "python3"
  },
  "language_info": {
   "codemirror_mode": {
    "name": "ipython",
    "version": 3
   },
   "file_extension": ".py",
   "mimetype": "text/x-python",
   "name": "python",
   "nbconvert_exporter": "python",
   "pygments_lexer": "ipython3",
   "version": "3.12.6"
  }
 },
 "nbformat": 4,
 "nbformat_minor": 2
}
