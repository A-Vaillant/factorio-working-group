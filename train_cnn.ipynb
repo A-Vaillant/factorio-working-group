{
 "cells": [
  {
   "cell_type": "code",
   "execution_count": null,
   "id": "749b10a3",
   "metadata": {},
   "outputs": [],
   "source": [
    "from src.training import *\n",
    "import warnings\n",
    "warnings.filterwarnings(\"ignore\", message=\"Unknown entity 'ee-infinity-loader'\")\n",
    "\n",
    "dims = (20,20)\n",
    "rv = 4\n",
    "datalist = prepare_dataset(dims=dims, repr_version=rv)\n",
    "# datalist[0] = [d.get_matrix(dims, rv) for d in datalist[0]]\n",
    "# datalist[2] = [d.get_matrix(dims, rv) for d in datalist[2]]\n",
    "\n",
    "dataloader = DataLoader(\n",
    "    AugmentedListDataset(*datalist),\n",
    "    batch_size=32, \n",
    "    collate_fn=collate_numpy_matrices\n",
    ")\n",
    "train_dataloader, val_dataloader = split_dataloader(dataloader)\n",
    "model = DeepQCNN(input_channels=8, output_channels=8)\n",
    "\n",
    "trainer = QCNNTrainer(\n",
    "        model=model,\n",
    "        device='mps',\n",
    "        learning_rate=0.001,\n",
    "        log_dir='runs/qcnn',\n",
    "    )\n",
    "\n",
    "# Train model\n",
    "trainer.train(\n",
    "    train_dataloader=train_dataloader,\n",
    "    val_dataloader=val_dataloader,\n",
    "    num_epochs=100,\n",
    "    save_path='models/qcnn_best.pth'\n",
    ")"
   ]
  }
 ],
 "metadata": {
  "kernelspec": {
   "display_name": ".venv",
   "language": "python",
   "name": "python3"
  },
  "language_info": {
   "codemirror_mode": {
    "name": "ipython",
    "version": 3
   },
   "file_extension": ".py",
   "mimetype": "text/x-python",
   "name": "python",
   "nbconvert_exporter": "python",
   "pygments_lexer": "ipython3",
   "version": "3.11.11"
  }
 },
 "nbformat": 4,
 "nbformat_minor": 5
}
