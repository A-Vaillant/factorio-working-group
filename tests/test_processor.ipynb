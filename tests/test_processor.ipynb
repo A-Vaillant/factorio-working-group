{
 "cells": [
  {
   "cell_type": "code",
   "execution_count": 1,
   "metadata": {},
   "outputs": [],
   "source": [
    "import sys\n",
    "from pathlib import Path\n",
    "# Adjust this to your project root\n",
    "project_root = Path(\"..\").resolve()  \n",
    "sys.path.insert(0, str(project_root))"
   ]
  },
  {
   "cell_type": "code",
   "execution_count": 2,
   "metadata": {},
   "outputs": [],
   "source": [
    "from src.syntheticdata.processor import EntityPuncher, FactoryLoader\n",
    "# from src.pipeline import FactoryLoader\n",
    "from src.representation import center_in_N, blueprint_to_opacity_matrices"
   ]
  },
  {
   "cell_type": "code",
   "execution_count": 3,
   "metadata": {},
   "outputs": [
    {
     "name": "stdout",
     "output_type": "stream",
     "text": [
      "Factory(json={'blueprint': {'icons': [{'signal': {'type': 'item', 'name': 'transport-belt'}, 'index': 1}], 'entities': [{'name': 'assembling-machine-1', 'position': {'x': -0.5, 'y': -0.5}, 'direction': 0, 'entity_number': 1}, {'name': 'transport-belt', 'position': {'x': 2.5, 'y': 0.5}, 'direction': 0, 'entity_number': 2}, {'name': 'transport-belt', 'position': {'x': 2.5, 'y': -0.5}, 'direction': 0, 'entity_number': 3}, {'name': 'transport-belt', 'position': {'x': 2.5, 'y': -1.5}, 'direction': 0, 'entity_number': 4}, {'name': 'inserter', 'position': {'x': 1.5, 'y': -0.5}, 'direction': 2, 'entity_number': 5}, {'name': 'inserter', 'position': {'x': -2.5, 'y': -0.5}, 'direction': 2, 'entity_number': 6}], 'item': 'blueprint', 'version': 281479274299391, 'label': 'Blueprint'}}, _bp=None)\n",
      "\n",
      "ENTITIES:\n",
      "<EntityList>[<AssemblingMachine at 0x000002B6EDBB4C20>{'name': 'assembling-machine-1', 'position': {'x': -0.5, 'y': -0.5}}, <TransportBelt at 0x000002B6EDBB4BF0>{'name': 'transport-belt', 'position': {'x': 2.5, 'y': 0.5}}, <TransportBelt at 0x000002B6EDBB5130>{'name': 'transport-belt', 'position': {'x': 2.5, 'y': -0.5}}, <TransportBelt at 0x000002B6EDBB5490>{'name': 'transport-belt', 'position': {'x': 2.5, 'y': -1.5}}, <Inserter at 0x000002B6EDBB5550>{'name': 'inserter', 'position': {'x': 1.5, 'y': -0.5}, 'direction': 2}, <Inserter at 0x000002B6EDBB55E0>{'name': 'inserter', 'position': {'x': -2.5, 'y': -0.5}, 'direction': 2}]\n",
      "\n",
      "UNUSED:\n",
      "{2984695778432, 2984695783904, 2984695784144}\n",
      "<TransportBelt at 0x000002B6EDBB4C80>{'name': 'transport-belt', 'position': {'x': 5.5, 'y': 2.5}}\n",
      "\t0\n",
      "<TransportBelt at 0x000002B6EDBB61E0>{'name': 'transport-belt', 'position': {'x': 5.5, 'y': 1.5}}\n",
      "\t0\n",
      "<TransportBelt at 0x000002B6EDBB62D0>{'name': 'transport-belt', 'position': {'x': 5.5, 'y': 0.5}}\n",
      "\t0\n",
      "<Inserter at 0x000002B6EDBB63C0>{'name': 'inserter', 'position': {'x': 4.5, 'y': 1.5}, 'direction': 2}\n",
      "\t2\n",
      "<Inserter at 0x000002B6EDBB64B0>{'name': 'inserter', 'position': {'x': 0.5, 'y': 1.5}, 'direction': 2}\n",
      "\t2\n",
      "\n",
      "POS MAP: \n",
      "{(5, 2): <TransportBelt at 0x000002B6EDBB4C80>{'name': 'transport-belt', 'position': {'x': 5.5, 'y': 2.5}}, (5, 1): <TransportBelt at 0x000002B6EDBB61E0>{'name': 'transport-belt', 'position': {'x': 5.5, 'y': 1.5}}, (5, 0): <TransportBelt at 0x000002B6EDBB62D0>{'name': 'transport-belt', 'position': {'x': 5.5, 'y': 0.5}}}\n",
      "\n",
      "POS MAP: \n",
      "None\n"
     ]
    },
    {
     "name": "stderr",
     "output_type": "stream",
     "text": [
      "C:\\Users\\selin\\OneDrive\\Documents\\GitHub\\factorio-working-group\\src\\representation.py:234: DirectionWarning: 'Inserter' only has 4-way rotation; defaulting to 0\n",
      "  self._bp = get_blueprintable_from_JSON(self.json)\n"
     ]
    },
    {
     "ename": "AttributeError",
     "evalue": "'int' object has no attribute 'vector'",
     "output_type": "error",
     "traceback": [
      "\u001b[1;31m---------------------------------------------------------------------------\u001b[0m",
      "\u001b[1;31mAttributeError\u001b[0m                            Traceback (most recent call last)",
      "\u001b[1;32mc:\\Users\\selin\\OneDrive\\Documents\\GitHub\\factorio-working-group\\tests\\test_processor.ipynb Cell 3\u001b[0m line \u001b[0;36m1\n\u001b[0;32m      <a href='vscode-notebook-cell:/c%3A/Users/selin/OneDrive/Documents/GitHub/factorio-working-group/tests/test_processor.ipynb#W2sZmlsZQ%3D%3D?line=7'>8</a>\u001b[0m ep \u001b[39m=\u001b[39m EntityPuncher(factory, N\u001b[39m=\u001b[39m\u001b[39m20\u001b[39m)\n\u001b[0;32m      <a href='vscode-notebook-cell:/c%3A/Users/selin/OneDrive/Documents/GitHub/factorio-working-group/tests/test_processor.ipynb#W2sZmlsZQ%3D%3D?line=8'>9</a>\u001b[0m \u001b[39mprint\u001b[39m(\u001b[39m\"\u001b[39m\u001b[39m\\n\u001b[39;00m\u001b[39mENTITIES:\u001b[39m\u001b[39m\\n\u001b[39;00m\u001b[39m\"\u001b[39m \u001b[39m+\u001b[39m \u001b[39mstr\u001b[39m(ep\u001b[39m.\u001b[39mblueprint\u001b[39m.\u001b[39mentities))\n\u001b[1;32m---> <a href='vscode-notebook-cell:/c%3A/Users/selin/OneDrive/Documents/GitHub/factorio-working-group/tests/test_processor.ipynb#W2sZmlsZQ%3D%3D?line=9'>10</a>\u001b[0m X_before, X_after, y \u001b[39m=\u001b[39m ep\u001b[39m.\u001b[39;49mgenerate_state_action_pairs(num_pairs\u001b[39m=\u001b[39;49m\u001b[39m10\u001b[39;49m)\n",
      "File \u001b[1;32m~\\OneDrive\\Documents\\GitHub\\factorio-working-group\\src\\syntheticdata\\processor.py:200\u001b[0m, in \u001b[0;36mEntityPuncher.generate_state_action_pairs\u001b[1;34m(self, num_pairs)\u001b[0m\n\u001b[0;32m    198\u001b[0m \u001b[39m# 2) get next entity to remove in 'Path of Destruction' order\u001b[39;00m\n\u001b[0;32m    199\u001b[0m \u001b[39mtry\u001b[39;00m:\n\u001b[1;32m--> 200\u001b[0m     to_remove \u001b[39m=\u001b[39m \u001b[39mnext\u001b[39;49m(\u001b[39mself\u001b[39;49m\u001b[39m.\u001b[39;49m_next_removal_order(entities, removed_ids))\n\u001b[0;32m    201\u001b[0m \u001b[39mexcept\u001b[39;00m \u001b[39mStopIteration\u001b[39;00m:\n\u001b[0;32m    202\u001b[0m     \u001b[39m# no more possible removals → restart from a fresh starting point\u001b[39;00m\n\u001b[0;32m    203\u001b[0m     current_bp \u001b[39m=\u001b[39m \u001b[39mself\u001b[39m\u001b[39m.\u001b[39m_starting_blueprint()\n",
      "File \u001b[1;32m~\\OneDrive\\Documents\\GitHub\\factorio-working-group\\src\\syntheticdata\\processor.py:178\u001b[0m, in \u001b[0;36mEntityPuncher._next_removal_order\u001b[1;34m(self, entities, removed_ids)\u001b[0m\n\u001b[0;32m    176\u001b[0m \u001b[39mfor\u001b[39;00m e \u001b[39min\u001b[39;00m \u001b[39mself\u001b[39m\u001b[39m.\u001b[39m_sort_assemblers(entities):\n\u001b[0;32m    177\u001b[0m     \u001b[39mif\u001b[39;00m \u001b[39mid\u001b[39m(e) \u001b[39mnot\u001b[39;00m \u001b[39min\u001b[39;00m removed_ids: \u001b[39myield\u001b[39;00m e\n\u001b[1;32m--> 178\u001b[0m \u001b[39mfor\u001b[39;00m e \u001b[39min\u001b[39;00m \u001b[39mself\u001b[39;49m\u001b[39m.\u001b[39;49m_belt_chains(entities):\n\u001b[0;32m    179\u001b[0m     \u001b[39mif\u001b[39;00m \u001b[39mid\u001b[39m(e) \u001b[39mnot\u001b[39;00m \u001b[39min\u001b[39;00m removed_ids: \u001b[39myield\u001b[39;00m e\n\u001b[0;32m    180\u001b[0m \u001b[39mfor\u001b[39;00m e \u001b[39min\u001b[39;00m \u001b[39mself\u001b[39m\u001b[39m.\u001b[39m_inserters_ready(entities, removed_ids):\n",
      "File \u001b[1;32m~\\OneDrive\\Documents\\GitHub\\factorio-working-group\\src\\syntheticdata\\processor.py:144\u001b[0m, in \u001b[0;36mEntityPuncher._belt_chains\u001b[1;34m(self, entities)\u001b[0m\n\u001b[0;32m    141\u001b[0m cur \u001b[39m=\u001b[39m e\n\u001b[0;32m    142\u001b[0m \u001b[39mwhile\u001b[39;00m \u001b[39mTrue\u001b[39;00m:\n\u001b[0;32m    143\u001b[0m     nbr_pos \u001b[39m=\u001b[39m (\n\u001b[1;32m--> 144\u001b[0m         cur\u001b[39m.\u001b[39mtile_position[\u001b[39m0\u001b[39m] \u001b[39m+\u001b[39m cur\u001b[39m.\u001b[39;49mdirection\u001b[39m.\u001b[39;49mvector[\u001b[39m0\u001b[39m], \u001b[39m# x pos?\u001b[39;00m\n\u001b[0;32m    145\u001b[0m         cur\u001b[39m.\u001b[39mtile_position[\u001b[39m1\u001b[39m] \u001b[39m+\u001b[39m cur\u001b[39m.\u001b[39mdirection\u001b[39m.\u001b[39mvector[\u001b[39m1\u001b[39m]  \u001b[39m# y pos?\u001b[39;00m\n\u001b[0;32m    146\u001b[0m     )\n\u001b[0;32m    147\u001b[0m     nbr \u001b[39m=\u001b[39m pos_map\u001b[39m.\u001b[39mget(\u001b[39mtuple\u001b[39m(nbr_pos), \u001b[39mNone\u001b[39;00m)\n\u001b[0;32m    148\u001b[0m     \u001b[39mif\u001b[39;00m nbr \u001b[39mand\u001b[39;00m \u001b[39mid\u001b[39m(nbr) \u001b[39min\u001b[39;00m unused:\n",
      "\u001b[1;31mAttributeError\u001b[0m: 'int' object has no attribute 'vector'"
     ]
    }
   ],
   "source": [
    "# Create Factory object\n",
    "data_base_path = Path('data').resolve().parent.parent / 'data'\n",
    "loader = FactoryLoader('txt/av',base_path=data_base_path)\n",
    "factory = loader.factories.get('3 Machine Factory')\n",
    "print(factory)\n",
    "\n",
    "# Create EntityPuncher and generate state-action pairs\n",
    "ep = EntityPuncher(factory, N=20)\n",
    "print(\"\\nENTITIES:\\n\" + str(ep.blueprint.entities))\n",
    "X_before, X_after, y = ep.generate_state_action_pairs(num_pairs=10)"
   ]
  },
  {
   "cell_type": "code",
   "execution_count": null,
   "metadata": {},
   "outputs": [],
   "source": [
    "import matplotlib.pyplot as plt\n",
    "\n",
    "# Visualize one before/after pair\n",
    "ix = 0\n",
    "plt.figure(figsize=(10, 4))\n",
    "\n",
    "plt.subplot(1, 2, 1)\n",
    "plt.imshow(X_before[ix].transpose(1, 2, 0))  # CHW → HWC\n",
    "plt.title(\"Before\")\n",
    "\n",
    "plt.subplot(1, 2, 2)\n",
    "plt.imshow(X_after[ix].transpose(1, 2, 0))  # CHW → HWC\n",
    "plt.title(\"After\")\n",
    "\n",
    "plt.show()"
   ]
  }
 ],
 "metadata": {
  "kernelspec": {
   "display_name": "Python 3",
   "language": "python",
   "name": "python3"
  },
  "language_info": {
   "codemirror_mode": {
    "name": "ipython",
    "version": 3
   },
   "file_extension": ".py",
   "mimetype": "text/x-python",
   "name": "python",
   "nbconvert_exporter": "python",
   "pygments_lexer": "ipython3",
   "version": "3.12.6"
  }
 },
 "nbformat": 4,
 "nbformat_minor": 2
}
